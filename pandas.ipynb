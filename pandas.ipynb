{
 "cells": [
  {
   "cell_type": "code",
   "execution_count": 172,
   "id": "8acc3f0f",
   "metadata": {},
   "outputs": [],
   "source": [
    "import pandas as pd"
   ]
  },
  {
   "cell_type": "markdown",
   "id": "aee21aa6",
   "metadata": {},
   "source": [
    "1. File open"
   ]
  },
  {
   "cell_type": "code",
   "execution_count": 173,
   "id": "a3c3be14",
   "metadata": {},
   "outputs": [],
   "source": [
    "# df=pd.read_csv('train.csv',encoding='latin1')\n",
    "\n",
    "# df=pd.read_excel('filename.xlsx')\n",
    "\n",
    "# df=pd.read_json('filename.json')"
   ]
  },
  {
   "cell_type": "code",
   "execution_count": 174,
   "id": "7b3f5851",
   "metadata": {},
   "outputs": [
    {
     "name": "stdout",
     "output_type": "stream",
     "text": [
      "    name  Age     city\n",
      "0    Ram   12  newyork\n",
      "1  Shyam   34    paris\n",
      "2   Raju   22   London\n",
      "    name  Age     city\n",
      "0    Ram   12  newyork\n",
      "1  Shyam   34    paris\n",
      "2   Raju   22   London\n"
     ]
    }
   ],
   "source": [
    "\n",
    "data1 = {\n",
    "    \"name\": ['Ram', 'Shyam', 'Raju'],\n",
    "    \"Age\": [12, 34, 22],\n",
    "    \"city\": ['newyork', 'paris', 'London']\n",
    "}\n",
    "\n",
    "df = pd.DataFrame(data1)\n",
    "print(df)\n",
    "\n",
    "# Excel file me save karega\n",
    "df.to_excel('output.xlsx', index=True)\n",
    "print(df)\n"
   ]
  },
  {
   "cell_type": "markdown",
   "id": "eb2b7b8b",
   "metadata": {},
   "source": [
    "1. condition"
   ]
  },
  {
   "cell_type": "code",
   "execution_count": 175,
   "id": "0f9c75bc",
   "metadata": {},
   "outputs": [
    {
     "name": "stdout",
     "output_type": "stream",
     "text": [
      "sample of dataframe:\n",
      "    name  Age     city  salary  score\n",
      "0    Ram   12  newyork     100     85\n",
      "1  Shyam   34    paris     200     90\n",
      "2   Raju   22   London     300     92\n"
     ]
    }
   ],
   "source": [
    "data2 = {\n",
    "    \"name\": ['Ram', 'Shyam', 'Raju'],\n",
    "    \"Age\": [12, 34, 22],\n",
    "    \"city\": ['newyork', 'paris', 'London'],\n",
    "    \"salary\":[100,200,300],\n",
    "    \"score\":[85,90,92]\n",
    "}\n",
    "\n",
    "df=pd.DataFrame(data2)\n",
    "print(\"sample of dataframe:\")\n",
    "print(df)\n"
   ]
  },
  {
   "cell_type": "code",
   "execution_count": 176,
   "id": "336470d6",
   "metadata": {},
   "outputs": [
    {
     "name": "stdout",
     "output_type": "stream",
     "text": [
      "single column return\n",
      "0      Ram\n",
      "1    Shyam\n",
      "2     Raju\n",
      "Name: name, dtype: object\n"
     ]
    }
   ],
   "source": [
    "\n",
    "print(\"single column return\")\n",
    "print(df['name'])\n"
   ]
  },
  {
   "cell_type": "code",
   "execution_count": 177,
   "id": "0a8a0b87",
   "metadata": {},
   "outputs": [
    {
     "name": "stdout",
     "output_type": "stream",
     "text": [
      "select multiple column:\n",
      "   salary  Age\n",
      "0     100   12\n",
      "1     200   34\n",
      "2     300   22\n"
     ]
    }
   ],
   "source": [
    "print(\"select multiple column:\")\n",
    "print(df[['salary','Age']])"
   ]
  },
  {
   "cell_type": "code",
   "execution_count": 178,
   "id": "35d29dc6",
   "metadata": {},
   "outputs": [
    {
     "name": "stdout",
     "output_type": "stream",
     "text": [
      "employ with salary > 100\n",
      "    name  Age    city  salary  score\n",
      "1  Shyam   34   paris     200     90\n",
      "2   Raju   22  London     300     92\n"
     ]
    }
   ],
   "source": [
    "print(\"employ with salary > 100\")\n",
    "high_salary=df[df['salary']>100]\n",
    "print(high_salary)"
   ]
  },
  {
   "cell_type": "code",
   "execution_count": 179,
   "id": "37331753",
   "metadata": {},
   "outputs": [
    {
     "name": "stdout",
     "output_type": "stream",
     "text": [
      "employe with salary and Age\n",
      "   name  Age    city  salary  score\n",
      "2  Raju   22  London     300     92\n"
     ]
    }
   ],
   "source": [
    "print(\"employe with salary and Age\")\n",
    "filter1=df[(df['Age']>12) & (df['salary']>200)]\n",
    "print(filter1)"
   ]
  },
  {
   "cell_type": "code",
   "execution_count": 180,
   "id": "a6684218",
   "metadata": {},
   "outputs": [
    {
     "name": "stdout",
     "output_type": "stream",
     "text": [
      "    name  Age    city  salary  score\n",
      "1  Shyam   34   paris     200     90\n",
      "2   Raju   22  London     300     92\n"
     ]
    }
   ],
   "source": [
    "filter2=df[(df['Age']>12) | (df['score']>90)]\n",
    "print(filter2)"
   ]
  },
  {
   "cell_type": "markdown",
   "id": "dde39180",
   "metadata": {},
   "source": [
    "2. DESCRIPTIVE STATISTICS"
   ]
  },
  {
   "cell_type": "code",
   "execution_count": 181,
   "id": "6bcbc33b",
   "metadata": {},
   "outputs": [
    {
     "name": "stdout",
     "output_type": "stream",
     "text": [
      "    name  Age     city  salary  score\n",
      "0    Ram   12  newyork     100     85\n",
      "1  Shyam   34    paris     200     90\n",
      "2   Raju   22   London     300     92\n",
      "\n",
      " discriptive statistics:\n",
      "             Age  salary      score\n",
      "count   3.000000     3.0   3.000000\n",
      "mean   22.666667   200.0  89.000000\n",
      "std    11.015141   100.0   3.605551\n",
      "min    12.000000   100.0  85.000000\n",
      "25%    17.000000   150.0  87.500000\n",
      "50%    22.000000   200.0  90.000000\n",
      "75%    28.000000   250.0  91.000000\n",
      "max    34.000000   300.0  92.000000\n"
     ]
    }
   ],
   "source": [
    "print(df)\n",
    "\n",
    "print(\"\\n discriptive statistics:\")\n",
    "print(df.describe())"
   ]
  },
  {
   "cell_type": "markdown",
   "id": "4d8840fd",
   "metadata": {},
   "source": [
    "3. Rows wise"
   ]
  },
  {
   "cell_type": "code",
   "execution_count": 182,
   "id": "05d5fb91",
   "metadata": {},
   "outputs": [
    {
     "name": "stdout",
     "output_type": "stream",
     "text": [
      "display 5 rows of first:\n",
      "  Cabin            Ticket number  Survived\n",
      "0   NaN         A/5 21171      5         0\n",
      "1   C85          PC 17599      3         1\n",
      "2   NaN  STON/O2. 3101282      6         1\n",
      "3  C123            113803      3         1\n",
      "4   NaN            373450      A         0\n"
     ]
    }
   ],
   "source": [
    "df=pd.read_csv(\"titanic.csv\")\n",
    "print(\"display 5 rows of first:\")\n",
    "print(df.head(5))"
   ]
  },
  {
   "cell_type": "code",
   "execution_count": 183,
   "id": "33344fd4",
   "metadata": {},
   "outputs": [
    {
     "name": "stdout",
     "output_type": "stream",
     "text": [
      "display 5 column of last:\n",
      "    Cabin      Ticket number  Survived\n",
      "886   NaN      211536      3         0\n",
      "887   B42      112053      3         1\n",
      "888   NaN  W./C. 6607      1         0\n",
      "889  C148      111369      2         1\n",
      "890   NaN      370376      3         0\n"
     ]
    }
   ],
   "source": [
    "print(\"display 5 column of last:\")\n",
    "print(df.tail(5))"
   ]
  },
  {
   "cell_type": "code",
   "execution_count": 184,
   "id": "12ee9589",
   "metadata": {},
   "outputs": [
    {
     "name": "stdout",
     "output_type": "stream",
     "text": [
      "display information of data set\n",
      "<class 'pandas.core.frame.DataFrame'>\n",
      "RangeIndex: 891 entries, 0 to 890\n",
      "Data columns (total 4 columns):\n",
      " #   Column    Non-Null Count  Dtype \n",
      "---  ------    --------------  ----- \n",
      " 0   Cabin     204 non-null    object\n",
      " 1   Ticket    891 non-null    object\n",
      " 2   number    891 non-null    object\n",
      " 3   Survived  891 non-null    int64 \n",
      "dtypes: int64(1), object(3)\n",
      "memory usage: 28.0+ KB\n",
      "None\n"
     ]
    }
   ],
   "source": [
    "print(\"display information of data set\")\n",
    "print(df.info())"
   ]
  },
  {
   "cell_type": "markdown",
   "id": "b2180efa",
   "metadata": {},
   "source": [
    "4. Topic"
   ]
  },
  {
   "cell_type": "code",
   "execution_count": 185,
   "id": "3cf8ba38",
   "metadata": {},
   "outputs": [
    {
     "name": "stdout",
     "output_type": "stream",
     "text": [
      "shape:(891, 4)\n",
      "column name:Index(['Cabin', 'Ticket', 'number', 'Survived'], dtype='object')\n"
     ]
    }
   ],
   "source": [
    "\n",
    "print(f\"shape:{df.shape}\")\n",
    "print(f\"column name:{df.columns}\")"
   ]
  },
  {
   "cell_type": "markdown",
   "id": "bad2c845",
   "metadata": {},
   "source": [
    "5. Adding"
   ]
  },
  {
   "cell_type": "code",
   "execution_count": 200,
   "id": "3089c732",
   "metadata": {},
   "outputs": [
    {
     "name": "stdout",
     "output_type": "stream",
     "text": [
      "sample of dataframe:\n",
      "    name  Age     city  salary  score\n",
      "0    Ram   12  newyork     100     85\n",
      "1  Shyam   34    paris     200     90\n",
      "2   Raju   22   London     300     92\n",
      "add new column:\n",
      "    name  Age     city  salary  score  bonus\n",
      "0    Ram   12  newyork     100     85   10.0\n",
      "1  Shyam   34    paris     200     90   20.0\n",
      "2   Raju   22   London     300     92   30.0\n",
      "add ID Employe column:\n",
      "   Employe  ID   name  Age     city  salary  score  bonus\n",
      "0            1    Ram   12  newyork     100     85   10.0\n",
      "1            2  Shyam   34    paris     200     90   20.0\n",
      "2            3   Raju   22   London     300     92   30.0\n"
     ]
    }
   ],
   "source": [
    "df=pd.DataFrame(data2)\n",
    "print(\"sample of dataframe:\")\n",
    "print(df)\n",
    "\n",
    "print(\"add new column:\")\n",
    "df[\"bonus\"]=df[\"salary\"]*0.1\n",
    "print(df)\n",
    "\n",
    "print(\"add ID Employe column:\")\n",
    "df.insert(0,\"Employe  ID\",[1,2,3])\n",
    "print(df)"
   ]
  },
  {
   "cell_type": "markdown",
   "id": "b18c9832",
   "metadata": {},
   "source": [
    "6. updating"
   ]
  },
  {
   "cell_type": "code",
   "execution_count": 187,
   "id": "eedc2175",
   "metadata": {},
   "outputs": [
    {
     "name": "stdout",
     "output_type": "stream",
     "text": [
      "   Employe  ID   name  Age     city  salary  score  bonus\n",
      "0            1    Ram   12  newyork     100     85   10.0\n",
      "1            2  Shyam   34    paris    5500     90   20.0\n",
      "2            3   Raju   22   London     300     92   30.0\n",
      "   Employe  ID   name  Age     city  salary  score  bonus\n",
      "0            1    Ram   12  newyork   105.0     85   10.0\n",
      "1            2  Shyam   34    paris  5775.0     90   20.0\n",
      "2            3   Raju   22   London   315.0     92   30.0\n"
     ]
    }
   ],
   "source": [
    "df.loc[1,'salary']=5500\n",
    "print(df)\n",
    "\n",
    "df['salary']=df['salary']*1.05\n",
    "print(df)"
   ]
  },
  {
   "cell_type": "markdown",
   "id": "e2e80621",
   "metadata": {},
   "source": [
    "7. Removing"
   ]
  },
  {
   "cell_type": "code",
   "execution_count": 188,
   "id": "00a8b4d5",
   "metadata": {},
   "outputs": [
    {
     "name": "stdout",
     "output_type": "stream",
     "text": [
      "sample of dataframe:\n",
      "    name  Age     city  salary  score\n",
      "0    Ram   12  newyork     100     85\n",
      "1  Shyam   34    paris     200     90\n",
      "2   Raju   22   London     300     92\n",
      "\n",
      " modify data:\n",
      "    name     city  salary\n",
      "0    Ram  newyork     100\n",
      "1  Shyam    paris     200\n",
      "2   Raju   London     300\n"
     ]
    }
   ],
   "source": [
    "df=pd.DataFrame(data2)\n",
    "print(\"sample of dataframe:\")\n",
    "print(df)\n",
    "\n",
    "print(\"\\n modify data:\")\n",
    "df.drop(columns=['score','Age'],inplace=True)\n",
    "print(df)"
   ]
  },
  {
   "cell_type": "markdown",
   "id": "ffcdd08b",
   "metadata": {},
   "source": [
    "8. missing value"
   ]
  },
  {
   "cell_type": "code",
   "execution_count": 189,
   "id": "b6a78764",
   "metadata": {},
   "outputs": [
    {
     "name": "stdout",
     "output_type": "stream",
     "text": [
      "  Cabin            Ticket number  Survived\n",
      "0   NaN         A/5 21171      5         0\n",
      "1   C85          PC 17599      3         1\n",
      "2   NaN  STON/O2. 3101282      6         1\n",
      "3  C123            113803      3         1\n",
      "4   NaN            373450      A         0\n",
      "     Cabin  Ticket  number  Survived\n",
      "0     True   False   False     False\n",
      "1    False   False   False     False\n",
      "2     True   False   False     False\n",
      "3    False   False   False     False\n",
      "4     True   False   False     False\n",
      "..     ...     ...     ...       ...\n",
      "886   True   False   False     False\n",
      "887  False   False   False     False\n",
      "888   True   False   False     False\n",
      "889  False   False   False     False\n",
      "890   True   False   False     False\n",
      "\n",
      "[891 rows x 4 columns]\n",
      "Cabin       687\n",
      "Ticket        0\n",
      "number        0\n",
      "Survived      0\n",
      "dtype: int64\n",
      "remove missing value:\n",
      "None\n"
     ]
    }
   ],
   "source": [
    "df=pd.read_csv(\"titanic.csv\")\n",
    "print(df.head(5))\n",
    "\n",
    "\n",
    "print(df.isnull())\n",
    "\n",
    "print(df.isnull().sum())\n",
    "\n",
    "print(\"remove missing value:\")\n",
    "missing_value=df.dropna(inplace=True)\n",
    "print(missing_value)"
   ]
  },
  {
   "cell_type": "code",
   "execution_count": 190,
   "id": "b385d417",
   "metadata": {},
   "outputs": [
    {
     "name": "stdout",
     "output_type": "stream",
     "text": [
      "Sample of dataframe:\n",
      "    name   Age     city  salary  score\n",
      "0    Ram  12.0  newyork     100     85\n",
      "1  Shyam   NaN    paris     200      0\n",
      "2   Raju  22.0   London     300     92\n",
      "    name   Age     city  salary  score\n",
      "0    Ram  12.0  newyork     100     85\n",
      "1  Shyam   NaN    paris     200     59\n",
      "2   Raju  22.0   London     300     92\n",
      "    name   Age     city  salary  score\n",
      "0    Ram  12.0  newyork     100     85\n",
      "1  Shyam  17.0    paris     200     59\n",
      "2   Raju  22.0   London     300     92\n"
     ]
    }
   ],
   "source": [
    "data3 = {\n",
    "    \"name\": ['Ram', 'Shyam', 'Raju'],\n",
    "    \"Age\": [12, None, 22],   # 'NAN' is string here\n",
    "    \"city\": ['newyork', 'paris', 'London'],\n",
    "    \"salary\": [100, 200, 300],\n",
    "    \"score\": [85, 0, 92]\n",
    "}\n",
    "\n",
    "df = pd.DataFrame(data3)\n",
    "print(\"Sample of dataframe:\")\n",
    "print(df)\n",
    "\n",
    "df['score']=df['score'].replace(0,df['score'].mean())\n",
    "print(df)\n",
    "\n",
    "df['Age'] = df['Age'].fillna(df['Age'].mean())\n",
    "print(df)\n"
   ]
  },
  {
   "cell_type": "markdown",
   "id": "b6d715fc",
   "metadata": {},
   "source": [
    "9. Interpolation"
   ]
  },
  {
   "cell_type": "code",
   "execution_count": 191,
   "id": "b0457192",
   "metadata": {},
   "outputs": [
    {
     "name": "stdout",
     "output_type": "stream",
     "text": [
      "Before interpolation:\n",
      "   Time  value\n",
      "0     5   10.0\n",
      "1     3    NaN\n",
      "2     4   30.0\n",
      "3     2    NaN\n",
      "4     1   20.0\n",
      "After interpolation:\n",
      "   Time  value\n",
      "0     5   10.0\n",
      "1     3   20.0\n",
      "2     4   30.0\n",
      "3     2   25.0\n",
      "4     1   20.0\n"
     ]
    }
   ],
   "source": [
    "data={\n",
    "    \"Time\":[5,3,4,2,1],\n",
    "    \"value\":[10,None,30,None,20]\n",
    "}\n",
    "\n",
    "print(\"Before interpolation:\")\n",
    "df=pd.DataFrame(data)\n",
    "print(df)\n",
    "\n",
    "df['value']=df['value'].interpolate(method='linear')\n",
    "print(\"After interpolation:\")\n",
    "print(df)"
   ]
  },
  {
   "cell_type": "markdown",
   "id": "919f007f",
   "metadata": {},
   "source": [
    "10. Sorting"
   ]
  },
  {
   "cell_type": "code",
   "execution_count": 192,
   "id": "07da4a6c",
   "metadata": {},
   "outputs": [
    {
     "name": "stdout",
     "output_type": "stream",
     "text": [
      "   Time  value\n",
      "0     5   10.0\n",
      "1     3   20.0\n",
      "2     4   30.0\n",
      "3     2   25.0\n",
      "4     1   20.0\n",
      "After sorting\n",
      "   Time  value\n",
      "4     1   20.0\n",
      "3     2   25.0\n",
      "1     3   20.0\n",
      "2     4   30.0\n",
      "0     5   10.0\n"
     ]
    }
   ],
   "source": [
    "print(df)\n",
    "df.sort_values(by='Time',ascending=True,inplace=True)\n",
    "print(\"After sorting\")\n",
    "print(df)"
   ]
  },
  {
   "cell_type": "markdown",
   "id": "8db5e01b",
   "metadata": {},
   "source": [
    "11. Grouping"
   ]
  },
  {
   "cell_type": "code",
   "execution_count": 195,
   "id": "640fb481",
   "metadata": {},
   "outputs": [
    {
     "name": "stdout",
     "output_type": "stream",
     "text": [
      "sample of dataframe:\n",
      "    name  Age     city  salary  score\n",
      "0    Ram   12  newyork     100     85\n",
      "1  Shyam   34    paris     200     90\n",
      "2   Raju   22   London     300     92\n",
      "Age  name \n",
      "12   Ram      100\n",
      "22   Raju     300\n",
      "34   Shyam    200\n",
      "Name: salary, dtype: int64\n"
     ]
    }
   ],
   "source": [
    "data2 = {\n",
    "    \"name\": ['Ram', 'Shyam', 'Raju'],\n",
    "    \"Age\": [12, 34, 22],\n",
    "    \"city\": ['newyork', 'paris', 'London'],\n",
    "    \"salary\":[100,200,300],\n",
    "    \"score\":[85,90,92]\n",
    "}\n",
    "\n",
    "df=pd.DataFrame(data2)\n",
    "print(\"sample of dataframe:\")\n",
    "print(df)\n",
    "\n",
    "grouped=df.groupby(['Age','name'])['salary'].sum()\n",
    "print(grouped)"
   ]
  },
  {
   "cell_type": "markdown",
   "id": "40580f4a",
   "metadata": {},
   "source": [
    "12. Merging"
   ]
  },
  {
   "cell_type": "code",
   "execution_count": 198,
   "id": "7b9bf7c1",
   "metadata": {},
   "outputs": [
    {
     "name": "stdout",
     "output_type": "stream",
     "text": [
      "iner join\n",
      "   customer ID   Name  order amount\n",
      "0            1  rohit           250\n",
      "1            2  yadav           300\n",
      "2            3  shyam           400\n"
     ]
    }
   ],
   "source": [
    "df_customer=pd.DataFrame({\n",
    "    \"customer ID\":[1,2,3],\n",
    "    \"Name\":['rohit','yadav','shyam']\n",
    "\n",
    "})\n",
    "\n",
    "df_orders=pd.DataFrame({\n",
    "    'customer ID':[1,2,3],\n",
    "    'order amount':[250,300,400]\n",
    "})\n",
    "\n",
    "df_merged=pd.merge(df_customer,df_orders,on=\"customer ID\",how='inner')\n",
    "print('iner join')\n",
    "print(df_merged)"
   ]
  }
 ],
 "metadata": {
  "kernelspec": {
   "display_name": ".venv (3.13.1)",
   "language": "python",
   "name": "python3"
  },
  "language_info": {
   "codemirror_mode": {
    "name": "ipython",
    "version": 3
   },
   "file_extension": ".py",
   "mimetype": "text/x-python",
   "name": "python",
   "nbconvert_exporter": "python",
   "pygments_lexer": "ipython3",
   "version": "3.13.1"
  }
 },
 "nbformat": 4,
 "nbformat_minor": 5
}
